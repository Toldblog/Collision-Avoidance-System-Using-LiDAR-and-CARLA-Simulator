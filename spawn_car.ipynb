{
 "cells": [
  {
   "cell_type": "code",
   "execution_count": null,
   "metadata": {
    "vscode": {
     "languageId": "plaintext"
    }
   },
   "outputs": [],
   "source": [
    "import glob\n",
    "import os\n",
    "import sys\n",
    "import argparse\n",
    "import time\n",
    "from datetime import datetime\n",
    "import random\n",
    "import numpy as np\n",
    "from matplotlib import cm\n",
    "import open3d as o3d\n",
    "import carla\n",
    "import math\n",
    "\n",
    "import cv2\n",
    "\n",
    "import sys\n",
    "import weakref\n",
    "\n",
    "PREFERRED_SPEED = 40 # what it says\n",
    "SPEED_THRESHOLD = 2 #defines when we get close to desired speed so we drop the\n",
    "\n",
    "def maintain_speed(s):\n",
    "    if s >= PREFERRED_SPEED:\n",
    "        return 0\n",
    "    elif s < PREFERRED_SPEED - SPEED_THRESHOLD:\n",
    "        return 0.9 # think of it as % of \"full gas\"\n",
    "    else:\n",
    "        return 0.4 # tweak this if the car is way over or under preferred speed \n",
    "\n",
    "collision_detected = False\n",
    "\n",
    "def collision_callback(event):\n",
    "\tglobal collision_detected\n",
    "\tcollision_detected = True\n",
    "\n",
    "client = carla.Client('localhost', 2000)\n",
    "world = client.get_world()\n",
    "spawn_points = world.get_map().get_spawn_points()\n",
    "\n",
    "start_point = spawn_points[0]\n",
    "\n",
    "desired_rotation = carla.Rotation(pitch=0.0, yaw=90.0, roll=0.0)\n",
    "new_spawn_transform2 = carla.Transform(\n",
    "        carla.Location(\n",
    "            start_point.location.x + 15,\n",
    "            start_point.location.y - 10,\n",
    "            start_point.location.z\n",
    "        ),\n",
    "        desired_rotation\n",
    ")\n",
    "\n",
    "blueprint_library = world.get_blueprint_library()\n",
    "vehicle_bp = blueprint_library.filter('*model3*')[0]\n",
    "vehicle = world.spawn_actor(vehicle_bp, new_spawn_transform2)\n",
    "\n",
    "collision_sensor = blueprint_library.find(\"sensor.other.collision\")\n",
    "collision_sensor = world.spawn_actor(collision_sensor, carla.Transform(), attach_to=vehicle)\n",
    "collision_sensor.listen(lambda event: collision_callback(event))\n",
    "\n",
    "while True:\n",
    "\tworld.tick()\n",
    "\tsteering_angle = 0\n",
    "\tv = vehicle.get_velocity()\n",
    "\tspeed = round(3.6 * math.sqrt(v.x**2 + v.y**2 + v.z**2), 0)\n",
    "\testimated_throttle = maintain_speed(speed)\n",
    "\tvehicle_control = carla.VehicleControl(throttle=estimated_throttle, steer=steering_angle)\n",
    "\tvehicle.apply_control(vehicle_control)\n",
    "\tif collision_detected == True:\n",
    "\t\tcollision_detected = False\n",
    "\t\tvehicle.destroy()\n",
    "\t\tcollision_sensor.stop()\n",
    "\t\tcollision_sensor.destroy()\n",
    "\t\tvehicle = world.spawn_actor(vehicle_bp, new_spawn_transform2)\n",
    "\n",
    "\t\tcollision_sensor = blueprint_library.find(\"sensor.other.collision\")\n",
    "\t\tcollision_sensor = world.spawn_actor(collision_sensor, carla.Transform(), attach_to=vehicle)\n",
    "\t\tcollision_sensor.listen(lambda event: collision_callback(event))\n",
    "\n",
    "\n"
   ]
  },
  {
   "cell_type": "code",
   "execution_count": null,
   "metadata": {
    "vscode": {
     "languageId": "plaintext"
    }
   },
   "outputs": [],
   "source": [
    "for sensor in world.get_actors().filter('*sensor*'):\n",
    "\tsensor.destroy()\n",
    "for actor in world.get_actors().filter('*vehicle*'):\n",
    "    actor.destroy()"
   ]
  }
 ],
 "metadata": {
  "language_info": {
   "name": "python"
  }
 },
 "nbformat": 4,
 "nbformat_minor": 2
}
